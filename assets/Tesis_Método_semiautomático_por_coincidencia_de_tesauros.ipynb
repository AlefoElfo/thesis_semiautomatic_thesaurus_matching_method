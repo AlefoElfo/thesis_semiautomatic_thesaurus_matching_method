{
  "cells": [
    {
      "cell_type": "markdown",
      "metadata": {
        "id": "0VXf0X8ePFn5"
      },
      "source": [
        "# Librería"
      ]
    },
    {
      "cell_type": "code",
      "execution_count": 25,
      "metadata": {
        "colab": {
          "base_uri": "https://localhost:8080/",
          "height": 0
        },
        "id": "mrazTXV7QGJz",
        "outputId": "3270d593-1590-4b6b-89fe-dff6d8d74389"
      },
      "outputs": [
        {
          "name": "stdout",
          "output_type": "stream",
          "text": [
            "Looking in indexes: https://pypi.org/simple, https://us-python.pkg.dev/colab-wheels/public/simple/\n",
            "Requirement already satisfied: blis in /usr/local/lib/python3.7/dist-packages (0.7.9)\n",
            "Collecting blis\n",
            "  Using cached blis-0.9.1-cp37-cp37m-manylinux_2_17_x86_64.manylinux2014_x86_64.whl (7.8 MB)\n",
            "Requirement already satisfied: numpy>=1.15.0 in /usr/local/lib/python3.7/dist-packages (from blis) (1.21.6)\n",
            "Installing collected packages: blis\n",
            "  Attempting uninstall: blis\n",
            "    Found existing installation: blis 0.7.9\n",
            "    Uninstalling blis-0.7.9:\n",
            "      Successfully uninstalled blis-0.7.9\n",
            "\u001b[31mERROR: pip's dependency resolver does not currently take into account all the packages that are installed. This behaviour is the source of the following dependency conflicts.\n",
            "thinc 8.1.5 requires blis<0.8.0,>=0.7.8, but you have blis 0.9.1 which is incompatible.\u001b[0m\u001b[31m\n",
            "\u001b[0mSuccessfully installed blis-0.9.1\n",
            "\u001b[33mWARNING: Running pip as the 'root' user can result in broken permissions and conflicting behaviour with the system package manager. It is recommended to use a virtual environment instead: https://pip.pypa.io/warnings/venv\u001b[0m\u001b[33m\n",
            "\u001b[0mLooking in indexes: https://pypi.org/simple, https://us-python.pkg.dev/colab-wheels/public/simple/\n",
            "Requirement already satisfied: pip in /usr/local/lib/python3.7/dist-packages (22.3)\n",
            "Requirement already satisfied: setuptools in /usr/local/lib/python3.7/dist-packages (65.5.0)\n",
            "Requirement already satisfied: wheel in /usr/local/lib/python3.7/dist-packages (0.37.1)\n",
            "\u001b[33mWARNING: Running pip as the 'root' user can result in broken permissions and conflicting behaviour with the system package manager. It is recommended to use a virtual environment instead: https://pip.pypa.io/warnings/venv\u001b[0m\u001b[33m\n",
            "\u001b[0mLooking in indexes: https://pypi.org/simple, https://us-python.pkg.dev/colab-wheels/public/simple/\n",
            "Requirement already satisfied: spacy in /usr/local/lib/python3.7/dist-packages (3.4.2)\n",
            "Requirement already satisfied: langcodes<4.0.0,>=3.2.0 in /usr/local/lib/python3.7/dist-packages (from spacy) (3.3.0)\n",
            "Requirement already satisfied: srsly<3.0.0,>=2.4.3 in /usr/local/lib/python3.7/dist-packages (from spacy) (2.4.5)\n",
            "Requirement already satisfied: setuptools in /usr/local/lib/python3.7/dist-packages (from spacy) (65.5.0)\n",
            "Requirement already satisfied: packaging>=20.0 in /usr/local/lib/python3.7/dist-packages (from spacy) (21.3)\n",
            "Requirement already satisfied: murmurhash<1.1.0,>=0.28.0 in /usr/local/lib/python3.7/dist-packages (from spacy) (1.0.9)\n",
            "Requirement already satisfied: thinc<8.2.0,>=8.1.0 in /usr/local/lib/python3.7/dist-packages (from spacy) (8.1.5)\n",
            "Requirement already satisfied: preshed<3.1.0,>=3.0.2 in /usr/local/lib/python3.7/dist-packages (from spacy) (3.0.8)\n",
            "Requirement already satisfied: typing-extensions<4.2.0,>=3.7.4 in /usr/local/lib/python3.7/dist-packages (from spacy) (4.1.1)\n",
            "Requirement already satisfied: pathy>=0.3.5 in /usr/local/lib/python3.7/dist-packages (from spacy) (0.6.2)\n",
            "Requirement already satisfied: pydantic!=1.8,!=1.8.1,<1.11.0,>=1.7.4 in /usr/local/lib/python3.7/dist-packages (from spacy) (1.10.2)\n",
            "Requirement already satisfied: jinja2 in /usr/local/lib/python3.7/dist-packages (from spacy) (2.11.3)\n",
            "Requirement already satisfied: catalogue<2.1.0,>=2.0.6 in /usr/local/lib/python3.7/dist-packages (from spacy) (2.0.8)\n",
            "Requirement already satisfied: tqdm<5.0.0,>=4.38.0 in /usr/local/lib/python3.7/dist-packages (from spacy) (4.64.1)\n",
            "Requirement already satisfied: typer<0.5.0,>=0.3.0 in /usr/local/lib/python3.7/dist-packages (from spacy) (0.4.2)\n",
            "Requirement already satisfied: spacy-loggers<2.0.0,>=1.0.0 in /usr/local/lib/python3.7/dist-packages (from spacy) (1.0.3)\n",
            "Requirement already satisfied: requests<3.0.0,>=2.13.0 in /usr/local/lib/python3.7/dist-packages (from spacy) (2.23.0)\n",
            "Requirement already satisfied: spacy-legacy<3.1.0,>=3.0.10 in /usr/local/lib/python3.7/dist-packages (from spacy) (3.0.10)\n",
            "Requirement already satisfied: wasabi<1.1.0,>=0.9.1 in /usr/local/lib/python3.7/dist-packages (from spacy) (0.10.1)\n",
            "Requirement already satisfied: cymem<2.1.0,>=2.0.2 in /usr/local/lib/python3.7/dist-packages (from spacy) (2.0.7)\n",
            "Requirement already satisfied: numpy>=1.15.0 in /usr/local/lib/python3.7/dist-packages (from spacy) (1.21.6)\n",
            "Requirement already satisfied: zipp>=0.5 in /usr/local/lib/python3.7/dist-packages (from catalogue<2.1.0,>=2.0.6->spacy) (3.9.0)\n",
            "Requirement already satisfied: pyparsing!=3.0.5,>=2.0.2 in /usr/local/lib/python3.7/dist-packages (from packaging>=20.0->spacy) (3.0.9)\n",
            "Requirement already satisfied: smart-open<6.0.0,>=5.2.1 in /usr/local/lib/python3.7/dist-packages (from pathy>=0.3.5->spacy) (5.2.1)\n",
            "Requirement already satisfied: urllib3!=1.25.0,!=1.25.1,<1.26,>=1.21.1 in /usr/local/lib/python3.7/dist-packages (from requests<3.0.0,>=2.13.0->spacy) (1.24.3)\n",
            "Requirement already satisfied: chardet<4,>=3.0.2 in /usr/local/lib/python3.7/dist-packages (from requests<3.0.0,>=2.13.0->spacy) (3.0.4)\n",
            "Requirement already satisfied: idna<3,>=2.5 in /usr/local/lib/python3.7/dist-packages (from requests<3.0.0,>=2.13.0->spacy) (2.10)\n",
            "Requirement already satisfied: certifi>=2017.4.17 in /usr/local/lib/python3.7/dist-packages (from requests<3.0.0,>=2.13.0->spacy) (2022.9.24)\n",
            "Collecting blis<0.8.0,>=0.7.8\n",
            "  Using cached blis-0.7.9-cp37-cp37m-manylinux_2_17_x86_64.manylinux2014_x86_64.whl (10.2 MB)\n",
            "Requirement already satisfied: confection<1.0.0,>=0.0.1 in /usr/local/lib/python3.7/dist-packages (from thinc<8.2.0,>=8.1.0->spacy) (0.0.3)\n",
            "Requirement already satisfied: click<9.0.0,>=7.1.1 in /usr/local/lib/python3.7/dist-packages (from typer<0.5.0,>=0.3.0->spacy) (7.1.2)\n",
            "Requirement already satisfied: MarkupSafe>=0.23 in /usr/local/lib/python3.7/dist-packages (from jinja2->spacy) (2.0.1)\n",
            "Installing collected packages: blis\n",
            "  Attempting uninstall: blis\n",
            "    Found existing installation: blis 0.9.1\n",
            "    Uninstalling blis-0.9.1:\n",
            "      Successfully uninstalled blis-0.9.1\n",
            "Successfully installed blis-0.7.9\n",
            "\u001b[33mWARNING: Running pip as the 'root' user can result in broken permissions and conflicting behaviour with the system package manager. It is recommended to use a virtual environment instead: https://pip.pypa.io/warnings/venv\u001b[0m\u001b[33m\n",
            "\u001b[0m"
          ]
        },
        {
          "data": {
            "application/vnd.colab-display-data+json": {
              "pip_warning": {
                "packages": [
                  "blis"
                ]
              }
            }
          },
          "metadata": {},
          "output_type": "display_data"
        },
        {
          "name": "stdout",
          "output_type": "stream",
          "text": [
            "2022-10-27 17:04:58.001076: E tensorflow/stream_executor/cuda/cuda_driver.cc:271] failed call to cuInit: CUDA_ERROR_NO_DEVICE: no CUDA-capable device is detected\n",
            "Looking in indexes: https://pypi.org/simple, https://us-python.pkg.dev/colab-wheels/public/simple/\n",
            "Collecting es-core-news-md==3.4.0\n",
            "  Downloading https://github.com/explosion/spacy-models/releases/download/es_core_news_md-3.4.0/es_core_news_md-3.4.0-py3-none-any.whl (42.3 MB)\n",
            "\u001b[2K     \u001b[90m━━━━━━━━━━━━━━━━━━━━━━━━━━━━━━━━━━━━━━━━\u001b[0m \u001b[32m42.3/42.3 MB\u001b[0m \u001b[31m16.7 MB/s\u001b[0m eta \u001b[36m0:00:00\u001b[0m\n",
            "\u001b[?25hRequirement already satisfied: spacy<3.5.0,>=3.4.0 in /usr/local/lib/python3.7/dist-packages (from es-core-news-md==3.4.0) (3.4.2)\n",
            "Requirement already satisfied: setuptools in /usr/local/lib/python3.7/dist-packages (from spacy<3.5.0,>=3.4.0->es-core-news-md==3.4.0) (65.5.0)\n",
            "Requirement already satisfied: typing-extensions<4.2.0,>=3.7.4 in /usr/local/lib/python3.7/dist-packages (from spacy<3.5.0,>=3.4.0->es-core-news-md==3.4.0) (4.1.1)\n",
            "Requirement already satisfied: cymem<2.1.0,>=2.0.2 in /usr/local/lib/python3.7/dist-packages (from spacy<3.5.0,>=3.4.0->es-core-news-md==3.4.0) (2.0.7)\n",
            "Requirement already satisfied: catalogue<2.1.0,>=2.0.6 in /usr/local/lib/python3.7/dist-packages (from spacy<3.5.0,>=3.4.0->es-core-news-md==3.4.0) (2.0.8)\n",
            "Requirement already satisfied: srsly<3.0.0,>=2.4.3 in /usr/local/lib/python3.7/dist-packages (from spacy<3.5.0,>=3.4.0->es-core-news-md==3.4.0) (2.4.5)\n",
            "Requirement already satisfied: pathy>=0.3.5 in /usr/local/lib/python3.7/dist-packages (from spacy<3.5.0,>=3.4.0->es-core-news-md==3.4.0) (0.6.2)\n",
            "Requirement already satisfied: typer<0.5.0,>=0.3.0 in /usr/local/lib/python3.7/dist-packages (from spacy<3.5.0,>=3.4.0->es-core-news-md==3.4.0) (0.4.2)\n",
            "Requirement already satisfied: packaging>=20.0 in /usr/local/lib/python3.7/dist-packages (from spacy<3.5.0,>=3.4.0->es-core-news-md==3.4.0) (21.3)\n",
            "Requirement already satisfied: tqdm<5.0.0,>=4.38.0 in /usr/local/lib/python3.7/dist-packages (from spacy<3.5.0,>=3.4.0->es-core-news-md==3.4.0) (4.64.1)\n",
            "Requirement already satisfied: murmurhash<1.1.0,>=0.28.0 in /usr/local/lib/python3.7/dist-packages (from spacy<3.5.0,>=3.4.0->es-core-news-md==3.4.0) (1.0.9)\n",
            "Requirement already satisfied: requests<3.0.0,>=2.13.0 in /usr/local/lib/python3.7/dist-packages (from spacy<3.5.0,>=3.4.0->es-core-news-md==3.4.0) (2.23.0)\n",
            "Requirement already satisfied: spacy-legacy<3.1.0,>=3.0.10 in /usr/local/lib/python3.7/dist-packages (from spacy<3.5.0,>=3.4.0->es-core-news-md==3.4.0) (3.0.10)\n",
            "Requirement already satisfied: preshed<3.1.0,>=3.0.2 in /usr/local/lib/python3.7/dist-packages (from spacy<3.5.0,>=3.4.0->es-core-news-md==3.4.0) (3.0.8)\n",
            "Requirement already satisfied: spacy-loggers<2.0.0,>=1.0.0 in /usr/local/lib/python3.7/dist-packages (from spacy<3.5.0,>=3.4.0->es-core-news-md==3.4.0) (1.0.3)\n",
            "Requirement already satisfied: thinc<8.2.0,>=8.1.0 in /usr/local/lib/python3.7/dist-packages (from spacy<3.5.0,>=3.4.0->es-core-news-md==3.4.0) (8.1.5)\n",
            "Requirement already satisfied: jinja2 in /usr/local/lib/python3.7/dist-packages (from spacy<3.5.0,>=3.4.0->es-core-news-md==3.4.0) (2.11.3)\n",
            "Requirement already satisfied: langcodes<4.0.0,>=3.2.0 in /usr/local/lib/python3.7/dist-packages (from spacy<3.5.0,>=3.4.0->es-core-news-md==3.4.0) (3.3.0)\n",
            "Requirement already satisfied: wasabi<1.1.0,>=0.9.1 in /usr/local/lib/python3.7/dist-packages (from spacy<3.5.0,>=3.4.0->es-core-news-md==3.4.0) (0.10.1)\n",
            "Requirement already satisfied: pydantic!=1.8,!=1.8.1,<1.11.0,>=1.7.4 in /usr/local/lib/python3.7/dist-packages (from spacy<3.5.0,>=3.4.0->es-core-news-md==3.4.0) (1.10.2)\n",
            "Requirement already satisfied: numpy>=1.15.0 in /usr/local/lib/python3.7/dist-packages (from spacy<3.5.0,>=3.4.0->es-core-news-md==3.4.0) (1.21.6)\n",
            "Requirement already satisfied: zipp>=0.5 in /usr/local/lib/python3.7/dist-packages (from catalogue<2.1.0,>=2.0.6->spacy<3.5.0,>=3.4.0->es-core-news-md==3.4.0) (3.9.0)\n",
            "Requirement already satisfied: pyparsing!=3.0.5,>=2.0.2 in /usr/local/lib/python3.7/dist-packages (from packaging>=20.0->spacy<3.5.0,>=3.4.0->es-core-news-md==3.4.0) (3.0.9)\n",
            "Requirement already satisfied: smart-open<6.0.0,>=5.2.1 in /usr/local/lib/python3.7/dist-packages (from pathy>=0.3.5->spacy<3.5.0,>=3.4.0->es-core-news-md==3.4.0) (5.2.1)\n",
            "Requirement already satisfied: urllib3!=1.25.0,!=1.25.1,<1.26,>=1.21.1 in /usr/local/lib/python3.7/dist-packages (from requests<3.0.0,>=2.13.0->spacy<3.5.0,>=3.4.0->es-core-news-md==3.4.0) (1.24.3)\n",
            "Requirement already satisfied: certifi>=2017.4.17 in /usr/local/lib/python3.7/dist-packages (from requests<3.0.0,>=2.13.0->spacy<3.5.0,>=3.4.0->es-core-news-md==3.4.0) (2022.9.24)\n",
            "Requirement already satisfied: idna<3,>=2.5 in /usr/local/lib/python3.7/dist-packages (from requests<3.0.0,>=2.13.0->spacy<3.5.0,>=3.4.0->es-core-news-md==3.4.0) (2.10)\n",
            "Requirement already satisfied: chardet<4,>=3.0.2 in /usr/local/lib/python3.7/dist-packages (from requests<3.0.0,>=2.13.0->spacy<3.5.0,>=3.4.0->es-core-news-md==3.4.0) (3.0.4)\n",
            "Requirement already satisfied: blis<0.8.0,>=0.7.8 in /usr/local/lib/python3.7/dist-packages (from thinc<8.2.0,>=8.1.0->spacy<3.5.0,>=3.4.0->es-core-news-md==3.4.0) (0.7.9)\n",
            "Requirement already satisfied: confection<1.0.0,>=0.0.1 in /usr/local/lib/python3.7/dist-packages (from thinc<8.2.0,>=8.1.0->spacy<3.5.0,>=3.4.0->es-core-news-md==3.4.0) (0.0.3)\n",
            "Requirement already satisfied: click<9.0.0,>=7.1.1 in /usr/local/lib/python3.7/dist-packages (from typer<0.5.0,>=0.3.0->spacy<3.5.0,>=3.4.0->es-core-news-md==3.4.0) (7.1.2)\n",
            "Requirement already satisfied: MarkupSafe>=0.23 in /usr/local/lib/python3.7/dist-packages (from jinja2->spacy<3.5.0,>=3.4.0->es-core-news-md==3.4.0) (2.0.1)\n",
            "\u001b[33mWARNING: Running pip as the 'root' user can result in broken permissions and conflicting behaviour with the system package manager. It is recommended to use a virtual environment instead: https://pip.pypa.io/warnings/venv\u001b[0m\u001b[33m\n",
            "\u001b[0m\u001b[38;5;2m✔ Download and installation successful\u001b[0m\n",
            "You can now load the package via spacy.load('es_core_news_md')\n"
          ]
        }
      ],
      "source": [
        "# INSTALACIÓN DE LIBRERÍAS\n",
        "\n",
        "# Evitar problemas en Google Colab con spaCy\n",
        "!pip install -U blis\n",
        "# Instalando spaCy en Google Colab\n",
        "!pip install -U pip setuptools wheel\n",
        "!pip install -U spacy\n",
        "# Usar modelo largo en español\n",
        "!python -m spacy download es_core_news_md"
      ]
    },
    {
      "cell_type": "code",
      "execution_count": 26,
      "metadata": {
        "id": "sKsGzaf0GGf9"
      },
      "outputs": [],
      "source": [
        "# Llamar a librerías\n",
        "import json\n",
        "import spacy"
      ]
    },
    {
      "cell_type": "markdown",
      "metadata": {
        "id": "5BX04oQQPFrq"
      },
      "source": [
        "# Tesauro"
      ]
    },
    {
      "cell_type": "code",
      "execution_count": 32,
      "metadata": {
        "id": "HUkYX8d5Pw5O"
      },
      "outputs": [],
      "source": [
        "def tesauro(file):\n",
        "  global statenLista\n",
        "  # [1] JSON EN PYTHON\n",
        "  with open(file, encoding='utf-8') as statenFile:\n",
        "      staten = json.load(statenFile)\n",
        "      print(f'''--------------\n",
        "[1] \n",
        "Archivo JSON ingresado como DICT\n",
        "Con {len(staten)} atributos:\n",
        "''')\n",
        "  for key,value in staten.items():\n",
        "      print(key)\n",
        "      statenValue = str(value)\n",
        "\n",
        "  # [2] LIMPIAR STRING\n",
        "  residuosJSON = '''[]{}\"\"':,'''\n",
        "  replace = ''\n",
        "  for value in statenValue:\n",
        "      if value in residuosJSON:\n",
        "          statenValue = statenValue.replace(value, '')\n",
        "  statenLower = statenValue.lower()\n",
        "  print('''--------------\n",
        "\n",
        "[2]\n",
        "Archivo DICT se ha limpiado\n",
        "--------------''')\n",
        "\n",
        "  # [3] SPACY\n",
        "  nlp = spacy.load('es_core_news_md')\n",
        "  statenNLP = (set(nlp(statenLower)))\n",
        "  statenLista = []\n",
        "  for token in statenNLP:\n",
        "      if not token.is_stop:\n",
        "          if not token.is_punct: #¿Qué es más eficiente para el procesador?\n",
        "              statenLista.append(token.lemma_)\n",
        "  print(f'''\n",
        "[3]\n",
        "Archivo DICT leído con PLN. {len(statenLista)} campos de búsqueda\n",
        "--------------''')\n",
        "\n",
        "  return statenLista"
      ]
    },
    {
      "cell_type": "markdown",
      "metadata": {
        "id": "ef-ASXFLPF01"
      },
      "source": [
        "# Pregunta"
      ]
    },
    {
      "cell_type": "code",
      "execution_count": 33,
      "metadata": {
        "id": "cvWI1sfTTmup"
      },
      "outputs": [],
      "source": [
        "def pregunta():\n",
        "  global preguntaLista\n",
        "  # [1] Hacer input de pregunta natural\n",
        "  nlp = spacy.load('es_core_news_md')\n",
        "  pregunta = (input('''\n",
        "[4]\n",
        "Si no recuerdas el término, pregúntame, o trata de escribir lo que recuerdes:\n",
        "(Nota: El diccionario cuenta con 70 términos. Trabajamos para que crezca)\n",
        "ESCRIBE TU PREGUNTA ↓\n",
        "→ '''))\n",
        "  preguntaLower = nlp(pregunta.lower())\n",
        "  preguntaLista = []\n",
        "  for token in preguntaLower:\n",
        "      if not token.is_stop:\n",
        "          if not token.is_punct:\n",
        "              preguntaLista.append(token.lemma_)"
      ]
    },
    {
      "cell_type": "markdown",
      "metadata": {
        "id": "NkOvtfsIPF3h"
      },
      "source": [
        "# Coincidencias"
      ]
    },
    {
      "cell_type": "code",
      "execution_count": 36,
      "metadata": {
        "id": "7WdX_EEWUDOw"
      },
      "outputs": [],
      "source": [
        "def coincidencias():\n",
        "  # [1] Buscar coincidencias en lista de términos con lista de pregunta\n",
        "  global statenLista\n",
        "  global preguntaLista\n",
        "  global coincidenciasSet\n",
        "  coincidencias = []\n",
        "  for eS in statenLista:\n",
        "      for eP in preguntaLista:\n",
        "          if set(eS) == set(eP):\n",
        "              coincidencias.append(eS)\n",
        "              coincidenciasSet = set(coincidencias)\n",
        "  print(f'''--------------\n",
        "\n",
        "[5]\n",
        "Hemos encontrado {len(coincidenciasSet)} coincidencias:''')"
      ]
    },
    {
      "cell_type": "markdown",
      "metadata": {
        "id": "ECbw1C5FPF6t"
      },
      "source": [
        "# Resultados"
      ]
    },
    {
      "cell_type": "code",
      "execution_count": 30,
      "metadata": {
        "id": "dj3EwD_TWLLe"
      },
      "outputs": [],
      "source": [
        "def metodotesauro(archivojson):\n",
        "  print('Método semi automático por concidencia de tesauro')\n",
        "  tesauro(archivojson)\n",
        "  pregunta()\n",
        "  coincidencias()\n"
      ]
    },
    {
      "cell_type": "code",
      "execution_count": 37,
      "metadata": {
        "colab": {
          "base_uri": "https://localhost:8080/"
        },
        "id": "g82kIlYUXCVr",
        "outputId": "8d1e637a-2d52-49dd-8aae-5b31f4459aa0"
      },
      "outputs": [
        {
          "name": "stdout",
          "output_type": "stream",
          "text": [
            "Método semi automático por concidencia de tesauro\n",
            "--------------\n",
            "[1] \n",
            "Archivo JSON ingresado como DICT\n",
            "Con 9 atributos:\n",
            "\n",
            "Nombre\n",
            "Sinónimos\n",
            "Hiperónimos\n",
            "Cohipónimos\n",
            "Hipónimos\n",
            "Polisemia\n",
            "Antonimia\n",
            "Meronimia\n",
            "Definición\n",
            "--------------\n",
            "[2]\n",
            "Archivo DICT se ha limpiado\n",
            "--------------\n",
            "\n",
            "[3]\n",
            "Archivo DICT leído con PLN. 72 campos de búsqueda\n",
            "--------------\n",
            "\n",
            "[4]\n",
            "Si no recuerdas el término, pregúntame, o trata de escribir lo que recuerdes:\n",
            "(Nota: El diccionario cuenta con 70 términos. Trabajamos para que crezca)\n",
            "ESCRIBE TU PREGUNTA ↓\n",
            "→ libros de la reforma en los países bajos\n",
            "--------------\n",
            "\n",
            "[5]\n",
            "Hemos encontrado 3 coincidencias:\n"
          ]
        }
      ],
      "source": [
        "metodotesauro('/content/drive/MyDrive/Diccionario/Statenvertaling.json')"
      ]
    },
    {
      "cell_type": "markdown",
      "metadata": {
        "id": "skfekJYLbM03"
      },
      "source": [
        "## Variables finales"
      ]
    },
    {
      "cell_type": "code",
      "execution_count": 39,
      "metadata": {
        "colab": {
          "base_uri": "https://localhost:8080/"
        },
        "id": "1RCvTBodbPMI",
        "outputId": "e6db0f46-1889-4029-cb93-9d99491bbb0b"
      },
      "outputs": [
        {
          "name": "stdout",
          "output_type": "stream",
          "text": [
            "statenLista:\n",
            "['país', 'sagrado', 'lengua', 'dordretch', 'bajo', 'receptor', 'arminianismo', 'judío', 'político', 'religioso', 'neerlandés', 'ciudad', 'idioma', 'gobierno', 'letra', 'frontero', 'dios', 'comunicación', 'internacional', 'cambio', 'bajo', 'palabra', 'abraham', 'comunicación', 'iglesia', 'biblia', 'país', 'visto', 'judaísmo', 'arminio', 'judeocristián', 'cristianismo', 'jacob', 'sínodo', 'traducción', 'bajo', 'sagrado', 'fe', 'dialecto', 'sínodo', 'país', 'cristiano', 'cristo', 'país', 'intención', 'autoridad', 'apartado', 'monoteísmo', 'natal', 'calvino', 'general', 'espacio', 'sacro', 'región', 'país', 'calvinismo', 'mensaje', 'escritura', 'puro', 'lenguaje', 'dordretch', 'lenguaje', 'mensaje', 'religión', 'idioma', 'neerlandés', 'expresión', 'justicia', 'santo', 'isaac', 'materno', 'reforma']\n",
            "preguntaLista:\n",
            "['libro', 'reforma', 'país', 'bajo']\n",
            "coincidenciasSet:\n",
            "{'bajo', 'país', 'reforma'}\n"
          ]
        }
      ],
      "source": [
        "print(f'statenLista:\\n{statenLista}')\n",
        "print(f'preguntaLista:\\n{preguntaLista}')\n",
        "print(f'coincidenciasSet:\\n{coincidenciasSet}')"
      ]
    },
    {
      "cell_type": "markdown",
      "metadata": {
        "id": "ItV0IEtYPGAu"
      },
      "source": []
    }
  ],
  "metadata": {
    "colab": {
      "provenance": []
    },
    "kernelspec": {
      "display_name": "Python 3",
      "name": "python3"
    },
    "language_info": {
      "name": "python"
    }
  },
  "nbformat": 4,
  "nbformat_minor": 0
}
