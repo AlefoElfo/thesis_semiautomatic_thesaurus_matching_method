{
  "cells": [
    {
      "cell_type": "markdown",
      "metadata": {
        "id": "0VXf0X8ePFn5"
      },
      "source": [
        "# Librería"
      ]
    },
    {
      "cell_type": "code",
      "execution_count": 41,
      "metadata": {
        "colab": {
          "base_uri": "https://localhost:8080/"
        },
        "id": "mrazTXV7QGJz",
        "outputId": "8ba32453-9c66-4210-fa0c-bf30f8cfa379"
      },
      "outputs": [
        {
          "name": "stdout",
          "output_type": "stream",
          "text": [
            "Looking in indexes: https://pypi.org/simple, https://us-python.pkg.dev/colab-wheels/public/simple/\n",
            "Requirement already satisfied: blis in /usr/local/lib/python3.7/dist-packages (0.7.9)\n",
            "Collecting blis\n",
            "  Using cached blis-0.9.1-cp37-cp37m-manylinux_2_17_x86_64.manylinux2014_x86_64.whl (7.8 MB)\n",
            "Requirement already satisfied: numpy>=1.15.0 in /usr/local/lib/python3.7/dist-packages (from blis) (1.21.6)\n",
            "Traceback (most recent call last):\n",
            "  File \"/usr/local/lib/python3.7/dist-packages/pip/_vendor/pkg_resources/__init__.py\", line 3021, in _dep_map\n",
            "    return self.__dep_map\n",
            "  File \"/usr/local/lib/python3.7/dist-packages/pip/_vendor/pkg_resources/__init__.py\", line 2815, in __getattr__\n",
            "    raise AttributeError(attr)\n",
            "AttributeError: _DistInfoDistribution__dep_map\n",
            "\n",
            "During handling of the above exception, another exception occurred:\n",
            "\n",
            "Traceback (most recent call last):\n",
            "  File \"/usr/local/lib/python3.7/dist-packages/pip/_vendor/pkg_resources/__init__.py\", line 3012, in _parsed_pkg_info\n",
            "    return self._pkg_info\n",
            "  File \"/usr/local/lib/python3.7/dist-packages/pip/_vendor/pkg_resources/__init__.py\", line 2815, in __getattr__\n",
            "    raise AttributeError(attr)\n",
            "AttributeError: _pkg_info\n",
            "\n",
            "During handling of the above exception, another exception occurred:\n",
            "\n",
            "Traceback (most recent call last):\n",
            "  File \"/usr/local/lib/python3.7/dist-packages/pip/_internal/cli/base_command.py\", line 160, in exc_logging_wrapper\n",
            "    status = run_func(*args)\n",
            "  File \"/usr/local/lib/python3.7/dist-packages/pip/_internal/cli/req_command.py\", line 247, in wrapper\n",
            "    return func(self, options, args)\n",
            "  File \"/usr/local/lib/python3.7/dist-packages/pip/_internal/commands/install.py\", line 486, in run\n",
            "    conflicts = self._determine_conflicts(to_install)\n",
            "  File \"/usr/local/lib/python3.7/dist-packages/pip/_internal/commands/install.py\", line 618, in _determine_conflicts\n",
            "    return check_install_conflicts(to_install)\n",
            "  File \"/usr/local/lib/python3.7/dist-packages/pip/_internal/operations/check.py\", line 101, in check_install_conflicts\n",
            "    package_set, _ = create_package_set_from_installed()\n",
            "  File \"/usr/local/lib/python3.7/dist-packages/pip/_internal/operations/check.py\", line 42, in create_package_set_from_installed\n",
            "    dependencies = list(dist.iter_dependencies())\n",
            "  File \"/usr/local/lib/python3.7/dist-packages/pip/_internal/metadata/pkg_resources.py\", line 216, in iter_dependencies\n",
            "    return self._dist.requires(extras)\n",
            "  File \"/usr/local/lib/python3.7/dist-packages/pip/_vendor/pkg_resources/__init__.py\", line 2736, in requires\n",
            "    dm = self._dep_map\n",
            "  File \"/usr/local/lib/python3.7/dist-packages/pip/_vendor/pkg_resources/__init__.py\", line 3023, in _dep_map\n",
            "    self.__dep_map = self._compute_dependencies()\n",
            "  File \"/usr/local/lib/python3.7/dist-packages/pip/_vendor/pkg_resources/__init__.py\", line 3032, in _compute_dependencies\n",
            "    for req in self._parsed_pkg_info.get_all('Requires-Dist') or []:\n",
            "  File \"/usr/local/lib/python3.7/dist-packages/pip/_vendor/pkg_resources/__init__.py\", line 3015, in _parsed_pkg_info\n",
            "    self._pkg_info = email.parser.Parser().parsestr(metadata)\n",
            "  File \"/usr/lib/python3.7/email/parser.py\", line 67, in parsestr\n",
            "    return self.parse(StringIO(text), headersonly=headersonly)\n",
            "  File \"/usr/lib/python3.7/email/parser.py\", line 56, in parse\n",
            "    feedparser.feed(data)\n",
            "  File \"/usr/lib/python3.7/email/feedparser.py\", line 176, in feed\n",
            "    self._call_parse()\n",
            "  File \"/usr/lib/python3.7/email/feedparser.py\", line 180, in _call_parse\n",
            "    self._parse()\n",
            "  File \"/usr/lib/python3.7/email/feedparser.py\", line 256, in _parsegen\n",
            "    if self._cur.get_content_type() == 'message/delivery-status':\n",
            "  File \"/usr/lib/python3.7/email/message.py\", line 564, in get_content_type\n",
            "    def get_content_type(self):\n",
            "KeyboardInterrupt\n",
            "\n",
            "During handling of the above exception, another exception occurred:\n",
            "\n",
            "Traceback (most recent call last):\n",
            "  File \"/usr/local/bin/pip\", line 8, in <module>\n",
            "    sys.exit(main())\n",
            "  File \"/usr/local/lib/python3.7/dist-packages/pip/_internal/cli/main.py\", line 70, in main\n",
            "    return command.main(cmd_args)\n",
            "  File \"/usr/local/lib/python3.7/dist-packages/pip/_internal/cli/base_command.py\", line 101, in main\n",
            "    return self._main(args)\n",
            "  File \"/usr/local/lib/python3.7/dist-packages/pip/_internal/cli/base_command.py\", line 214, in _main\n",
            "    return run(options, args)\n",
            "  File \"/usr/local/lib/python3.7/dist-packages/pip/_internal/cli/base_command.py\", line 197, in exc_logging_wrapper\n",
            "    logger.critical(\"Operation cancelled by user\")\n",
            "  File \"/usr/lib/python3.7/logging/__init__.py\", line 1425, in critical\n",
            "    self._log(CRITICAL, msg, args, **kwargs)\n",
            "  File \"/usr/lib/python3.7/logging/__init__.py\", line 1514, in _log\n",
            "    self.handle(record)\n",
            "  File \"/usr/lib/python3.7/logging/__init__.py\", line 1524, in handle\n",
            "    self.callHandlers(record)\n",
            "  File \"/usr/lib/python3.7/logging/__init__.py\", line 1586, in callHandlers\n",
            "    hdlr.handle(record)\n",
            "  File \"/usr/lib/python3.7/logging/__init__.py\", line 894, in handle\n",
            "    self.emit(record)\n",
            "  File \"/usr/local/lib/python3.7/dist-packages/pip/_internal/utils/logging.py\", line 172, in emit\n",
            "    style = Style(color=\"red\")\n",
            "  File \"/usr/local/lib/python3.7/dist-packages/pip/_vendor/rich/style.py\", line 146, in __init__\n",
            "    def _make_color(color: Union[Color, str]) -> Color:\n",
            "  File \"/usr/lib/python3.7/typing.py\", line 251, in inner\n",
            "    return cached(*args, **kwds)\n",
            "  File \"/usr/lib/python3.7/typing.py\", line 355, in __getitem__\n",
            "    return _GenericAlias(self, parameters)\n",
            "  File \"/usr/lib/python3.7/typing.py\", line 624, in __init__\n",
            "    self.__module__ = origin.__module__\n",
            "KeyboardInterrupt\n",
            "Looking in indexes: https://pypi.org/simple, https://us-python.pkg.dev/colab-wheels/public/simple/\n",
            "Requirement already satisfied: pip in /usr/local/lib/python3.7/dist-packages (22.3)\n",
            "Requirement already satisfied: setuptools in /usr/local/lib/python3.7/dist-packages (65.5.0)\n",
            "Requirement already satisfied: wheel in /usr/local/lib/python3.7/dist-packages (0.37.1)\n",
            "\u001b[33mWARNING: Running pip as the 'root' user can result in broken permissions and conflicting behaviour with the system package manager. It is recommended to use a virtual environment instead: https://pip.pypa.io/warnings/venv\u001b[0m\u001b[33m\n",
            "\u001b[0mLooking in indexes: https://pypi.org/simple, https://us-python.pkg.dev/colab-wheels/public/simple/\n",
            "Requirement already satisfied: spacy in /usr/local/lib/python3.7/dist-packages (3.4.2)\n",
            "Requirement already satisfied: srsly<3.0.0,>=2.4.3 in /usr/local/lib/python3.7/dist-packages (from spacy) (2.4.5)\n",
            "Requirement already satisfied: cymem<2.1.0,>=2.0.2 in /usr/local/lib/python3.7/dist-packages (from spacy) (2.0.7)\n",
            "Requirement already satisfied: murmurhash<1.1.0,>=0.28.0 in /usr/local/lib/python3.7/dist-packages (from spacy) (1.0.9)\n",
            "Requirement already satisfied: tqdm<5.0.0,>=4.38.0 in /usr/local/lib/python3.7/dist-packages (from spacy) (4.64.1)\n",
            "Requirement already satisfied: setuptools in /usr/local/lib/python3.7/dist-packages (from spacy) (65.5.0)\n",
            "Requirement already satisfied: jinja2 in /usr/local/lib/python3.7/dist-packages (from spacy) (2.11.3)\n",
            "Requirement already satisfied: spacy-loggers<2.0.0,>=1.0.0 in /usr/local/lib/python3.7/dist-packages (from spacy) (1.0.3)\n",
            "Requirement already satisfied: pathy>=0.3.5 in /usr/local/lib/python3.7/dist-packages (from spacy) (0.6.2)\n",
            "Requirement already satisfied: langcodes<4.0.0,>=3.2.0 in /usr/local/lib/python3.7/dist-packages (from spacy) (3.3.0)\n",
            "Requirement already satisfied: spacy-legacy<3.1.0,>=3.0.10 in /usr/local/lib/python3.7/dist-packages (from spacy) (3.0.10)\n",
            "Requirement already satisfied: pydantic!=1.8,!=1.8.1,<1.11.0,>=1.7.4 in /usr/local/lib/python3.7/dist-packages (from spacy) (1.10.2)\n",
            "Requirement already satisfied: thinc<8.2.0,>=8.1.0 in /usr/local/lib/python3.7/dist-packages (from spacy) (8.1.5)\n",
            "Requirement already satisfied: catalogue<2.1.0,>=2.0.6 in /usr/local/lib/python3.7/dist-packages (from spacy) (2.0.8)\n",
            "Requirement already satisfied: preshed<3.1.0,>=3.0.2 in /usr/local/lib/python3.7/dist-packages (from spacy) (3.0.8)\n",
            "Requirement already satisfied: packaging>=20.0 in /usr/local/lib/python3.7/dist-packages (from spacy) (21.3)\n",
            "Requirement already satisfied: numpy>=1.15.0 in /usr/local/lib/python3.7/dist-packages (from spacy) (1.21.6)\n",
            "Requirement already satisfied: typer<0.5.0,>=0.3.0 in /usr/local/lib/python3.7/dist-packages (from spacy) (0.4.2)\n",
            "Requirement already satisfied: wasabi<1.1.0,>=0.9.1 in /usr/local/lib/python3.7/dist-packages (from spacy) (0.10.1)\n",
            "Requirement already satisfied: typing-extensions<4.2.0,>=3.7.4 in /usr/local/lib/python3.7/dist-packages (from spacy) (4.1.1)\n",
            "Requirement already satisfied: requests<3.0.0,>=2.13.0 in /usr/local/lib/python3.7/dist-packages (from spacy) (2.23.0)\n",
            "Requirement already satisfied: zipp>=0.5 in /usr/local/lib/python3.7/dist-packages (from catalogue<2.1.0,>=2.0.6->spacy) (3.9.0)\n",
            "Requirement already satisfied: pyparsing!=3.0.5,>=2.0.2 in /usr/local/lib/python3.7/dist-packages (from packaging>=20.0->spacy) (3.0.9)\n",
            "Requirement already satisfied: smart-open<6.0.0,>=5.2.1 in /usr/local/lib/python3.7/dist-packages (from pathy>=0.3.5->spacy) (5.2.1)\n",
            "Requirement already satisfied: urllib3!=1.25.0,!=1.25.1,<1.26,>=1.21.1 in /usr/local/lib/python3.7/dist-packages (from requests<3.0.0,>=2.13.0->spacy) (1.24.3)\n",
            "Requirement already satisfied: chardet<4,>=3.0.2 in /usr/local/lib/python3.7/dist-packages (from requests<3.0.0,>=2.13.0->spacy) (3.0.4)\n",
            "Requirement already satisfied: certifi>=2017.4.17 in /usr/local/lib/python3.7/dist-packages (from requests<3.0.0,>=2.13.0->spacy) (2022.9.24)\n",
            "Requirement already satisfied: idna<3,>=2.5 in /usr/local/lib/python3.7/dist-packages (from requests<3.0.0,>=2.13.0->spacy) (2.10)\n",
            "Requirement already satisfied: confection<1.0.0,>=0.0.1 in /usr/local/lib/python3.7/dist-packages (from thinc<8.2.0,>=8.1.0->spacy) (0.0.3)\n",
            "Requirement already satisfied: blis<0.8.0,>=0.7.8 in /usr/local/lib/python3.7/dist-packages (from thinc<8.2.0,>=8.1.0->spacy) (0.7.9)\n",
            "Requirement already satisfied: click<9.0.0,>=7.1.1 in /usr/local/lib/python3.7/dist-packages (from typer<0.5.0,>=0.3.0->spacy) (7.1.2)\n",
            "Requirement already satisfied: MarkupSafe>=0.23 in /usr/local/lib/python3.7/dist-packages (from jinja2->spacy) (2.0.1)\n",
            "\u001b[33mWARNING: Running pip as the 'root' user can result in broken permissions and conflicting behaviour with the system package manager. It is recommended to use a virtual environment instead: https://pip.pypa.io/warnings/venv\u001b[0m\u001b[33m\n",
            "\u001b[0m2022-10-27 17:24:17.694323: E tensorflow/stream_executor/cuda/cuda_driver.cc:271] failed call to cuInit: CUDA_ERROR_NO_DEVICE: no CUDA-capable device is detected\n",
            "Looking in indexes: https://pypi.org/simple, https://us-python.pkg.dev/colab-wheels/public/simple/\n",
            "Collecting es-core-news-md==3.4.0\n",
            "  Downloading https://github.com/explosion/spacy-models/releases/download/es_core_news_md-3.4.0/es_core_news_md-3.4.0-py3-none-any.whl (42.3 MB)\n",
            "\u001b[2K     \u001b[90m━━━━━━━━━━━━━━━━━━━━━━━━━━━━━━━━━━━━━━━━\u001b[0m \u001b[32m42.3/42.3 MB\u001b[0m \u001b[31m14.7 MB/s\u001b[0m eta \u001b[36m0:00:00\u001b[0m\n",
            "\u001b[?25hRequirement already satisfied: spacy<3.5.0,>=3.4.0 in /usr/local/lib/python3.7/dist-packages (from es-core-news-md==3.4.0) (3.4.2)\n",
            "Requirement already satisfied: typer<0.5.0,>=0.3.0 in /usr/local/lib/python3.7/dist-packages (from spacy<3.5.0,>=3.4.0->es-core-news-md==3.4.0) (0.4.2)\n",
            "Requirement already satisfied: spacy-legacy<3.1.0,>=3.0.10 in /usr/local/lib/python3.7/dist-packages (from spacy<3.5.0,>=3.4.0->es-core-news-md==3.4.0) (3.0.10)\n",
            "Requirement already satisfied: thinc<8.2.0,>=8.1.0 in /usr/local/lib/python3.7/dist-packages (from spacy<3.5.0,>=3.4.0->es-core-news-md==3.4.0) (8.1.5)\n",
            "Requirement already satisfied: pydantic!=1.8,!=1.8.1,<1.11.0,>=1.7.4 in /usr/local/lib/python3.7/dist-packages (from spacy<3.5.0,>=3.4.0->es-core-news-md==3.4.0) (1.10.2)\n",
            "Requirement already satisfied: wasabi<1.1.0,>=0.9.1 in /usr/local/lib/python3.7/dist-packages (from spacy<3.5.0,>=3.4.0->es-core-news-md==3.4.0) (0.10.1)\n",
            "Requirement already satisfied: requests<3.0.0,>=2.13.0 in /usr/local/lib/python3.7/dist-packages (from spacy<3.5.0,>=3.4.0->es-core-news-md==3.4.0) (2.23.0)\n",
            "Requirement already satisfied: packaging>=20.0 in /usr/local/lib/python3.7/dist-packages (from spacy<3.5.0,>=3.4.0->es-core-news-md==3.4.0) (21.3)\n",
            "Requirement already satisfied: pathy>=0.3.5 in /usr/local/lib/python3.7/dist-packages (from spacy<3.5.0,>=3.4.0->es-core-news-md==3.4.0) (0.6.2)\n",
            "Requirement already satisfied: langcodes<4.0.0,>=3.2.0 in /usr/local/lib/python3.7/dist-packages (from spacy<3.5.0,>=3.4.0->es-core-news-md==3.4.0) (3.3.0)\n",
            "Requirement already satisfied: srsly<3.0.0,>=2.4.3 in /usr/local/lib/python3.7/dist-packages (from spacy<3.5.0,>=3.4.0->es-core-news-md==3.4.0) (2.4.5)\n",
            "Requirement already satisfied: numpy>=1.15.0 in /usr/local/lib/python3.7/dist-packages (from spacy<3.5.0,>=3.4.0->es-core-news-md==3.4.0) (1.21.6)\n",
            "Requirement already satisfied: catalogue<2.1.0,>=2.0.6 in /usr/local/lib/python3.7/dist-packages (from spacy<3.5.0,>=3.4.0->es-core-news-md==3.4.0) (2.0.8)\n",
            "Requirement already satisfied: preshed<3.1.0,>=3.0.2 in /usr/local/lib/python3.7/dist-packages (from spacy<3.5.0,>=3.4.0->es-core-news-md==3.4.0) (3.0.8)\n",
            "Requirement already satisfied: jinja2 in /usr/local/lib/python3.7/dist-packages (from spacy<3.5.0,>=3.4.0->es-core-news-md==3.4.0) (2.11.3)\n",
            "Requirement already satisfied: tqdm<5.0.0,>=4.38.0 in /usr/local/lib/python3.7/dist-packages (from spacy<3.5.0,>=3.4.0->es-core-news-md==3.4.0) (4.64.1)\n",
            "Requirement already satisfied: cymem<2.1.0,>=2.0.2 in /usr/local/lib/python3.7/dist-packages (from spacy<3.5.0,>=3.4.0->es-core-news-md==3.4.0) (2.0.7)\n",
            "Requirement already satisfied: setuptools in /usr/local/lib/python3.7/dist-packages (from spacy<3.5.0,>=3.4.0->es-core-news-md==3.4.0) (65.5.0)\n",
            "Requirement already satisfied: murmurhash<1.1.0,>=0.28.0 in /usr/local/lib/python3.7/dist-packages (from spacy<3.5.0,>=3.4.0->es-core-news-md==3.4.0) (1.0.9)\n",
            "Requirement already satisfied: spacy-loggers<2.0.0,>=1.0.0 in /usr/local/lib/python3.7/dist-packages (from spacy<3.5.0,>=3.4.0->es-core-news-md==3.4.0) (1.0.3)\n",
            "Requirement already satisfied: typing-extensions<4.2.0,>=3.7.4 in /usr/local/lib/python3.7/dist-packages (from spacy<3.5.0,>=3.4.0->es-core-news-md==3.4.0) (4.1.1)\n",
            "Requirement already satisfied: zipp>=0.5 in /usr/local/lib/python3.7/dist-packages (from catalogue<2.1.0,>=2.0.6->spacy<3.5.0,>=3.4.0->es-core-news-md==3.4.0) (3.9.0)\n",
            "Requirement already satisfied: pyparsing!=3.0.5,>=2.0.2 in /usr/local/lib/python3.7/dist-packages (from packaging>=20.0->spacy<3.5.0,>=3.4.0->es-core-news-md==3.4.0) (3.0.9)\n",
            "Requirement already satisfied: smart-open<6.0.0,>=5.2.1 in /usr/local/lib/python3.7/dist-packages (from pathy>=0.3.5->spacy<3.5.0,>=3.4.0->es-core-news-md==3.4.0) (5.2.1)\n",
            "Requirement already satisfied: chardet<4,>=3.0.2 in /usr/local/lib/python3.7/dist-packages (from requests<3.0.0,>=2.13.0->spacy<3.5.0,>=3.4.0->es-core-news-md==3.4.0) (3.0.4)\n",
            "Requirement already satisfied: urllib3!=1.25.0,!=1.25.1,<1.26,>=1.21.1 in /usr/local/lib/python3.7/dist-packages (from requests<3.0.0,>=2.13.0->spacy<3.5.0,>=3.4.0->es-core-news-md==3.4.0) (1.24.3)\n",
            "Requirement already satisfied: idna<3,>=2.5 in /usr/local/lib/python3.7/dist-packages (from requests<3.0.0,>=2.13.0->spacy<3.5.0,>=3.4.0->es-core-news-md==3.4.0) (2.10)\n",
            "Requirement already satisfied: certifi>=2017.4.17 in /usr/local/lib/python3.7/dist-packages (from requests<3.0.0,>=2.13.0->spacy<3.5.0,>=3.4.0->es-core-news-md==3.4.0) (2022.9.24)\n",
            "Requirement already satisfied: blis<0.8.0,>=0.7.8 in /usr/local/lib/python3.7/dist-packages (from thinc<8.2.0,>=8.1.0->spacy<3.5.0,>=3.4.0->es-core-news-md==3.4.0) (0.7.9)\n",
            "Requirement already satisfied: confection<1.0.0,>=0.0.1 in /usr/local/lib/python3.7/dist-packages (from thinc<8.2.0,>=8.1.0->spacy<3.5.0,>=3.4.0->es-core-news-md==3.4.0) (0.0.3)\n",
            "Requirement already satisfied: click<9.0.0,>=7.1.1 in /usr/local/lib/python3.7/dist-packages (from typer<0.5.0,>=0.3.0->spacy<3.5.0,>=3.4.0->es-core-news-md==3.4.0) (7.1.2)\n",
            "Requirement already satisfied: MarkupSafe>=0.23 in /usr/local/lib/python3.7/dist-packages (from jinja2->spacy<3.5.0,>=3.4.0->es-core-news-md==3.4.0) (2.0.1)\n",
            "\u001b[33mWARNING: Running pip as the 'root' user can result in broken permissions and conflicting behaviour with the system package manager. It is recommended to use a virtual environment instead: https://pip.pypa.io/warnings/venv\u001b[0m\u001b[33m\n",
            "\u001b[0m\u001b[38;5;2m✔ Download and installation successful\u001b[0m\n",
            "You can now load the package via spacy.load('es_core_news_md')\n"
          ]
        }
      ],
      "source": [
        "# INSTALACIÓN DE LIBRERÍAS\n",
        "\n",
        "# Evitar problemas en Google Colab con spaCy\n",
        "!pip install -U blis\n",
        "# Instalando spaCy en Google Colab\n",
        "!pip install -U pip setuptools wheel\n",
        "!pip install -U spacy\n",
        "# Usar modelo largo en español\n",
        "!python -m spacy download es_core_news_md"
      ]
    },
    {
      "cell_type": "code",
      "execution_count": 45,
      "metadata": {
        "id": "sKsGzaf0GGf9"
      },
      "outputs": [],
      "source": [
        "# Llamar a librerías\n",
        "import json\n",
        "import spacy\n",
        "import requests"
      ]
    },
    {
      "cell_type": "markdown",
      "metadata": {
        "id": "5BX04oQQPFrq"
      },
      "source": [
        "# Tesauro"
      ]
    },
    {
      "cell_type": "code",
      "execution_count": 47,
      "metadata": {
        "id": "HUkYX8d5Pw5O"
      },
      "outputs": [],
      "source": [
        "def tesauro(url):\n",
        "  global statenLista\n",
        "  # [1] JSON EN PYTHON\n",
        "  # with open(url, encoding='utf-8') as statenFile:\n",
        "  #     staten = json.load(statenFile)\n",
        "  staten = json.loads(requests.get(url).text)\n",
        "  print(f'''--------------\n",
        "[1] \n",
        "Archivo JSON ingresado como DICT\n",
        "Con {len(staten)} atributos:\n",
        "''')\n",
        "  for key,value in staten.items():\n",
        "      print(key)\n",
        "      statenValue = str(value)\n",
        "\n",
        "  # [2] LIMPIAR STRING\n",
        "  residuosJSON = '''[]{}\"\"':,'''\n",
        "  replace = ''\n",
        "  for value in statenValue:\n",
        "      if value in residuosJSON:\n",
        "          statenValue = statenValue.replace(value, '')\n",
        "  statenLower = statenValue.lower()\n",
        "  print('''--------------\n",
        "\n",
        "[2]\n",
        "Archivo DICT se ha limpiado\n",
        "--------------''')\n",
        "\n",
        "  # [3] SPACY\n",
        "  nlp = spacy.load('es_core_news_md')\n",
        "  statenNLP = (set(nlp(statenLower)))\n",
        "  statenLista = []\n",
        "  for token in statenNLP:\n",
        "      if not token.is_stop:\n",
        "          if not token.is_punct: #¿Qué es más eficiente para el procesador?\n",
        "              statenLista.append(token.lemma_)\n",
        "  print(f'''\n",
        "[3]\n",
        "Archivo DICT leído con PLN. {len(statenLista)} campos de búsqueda\n",
        "--------------''')\n",
        "\n",
        "  return statenLista"
      ]
    },
    {
      "cell_type": "markdown",
      "metadata": {
        "id": "ef-ASXFLPF01"
      },
      "source": [
        "# Pregunta"
      ]
    },
    {
      "cell_type": "code",
      "execution_count": 33,
      "metadata": {
        "id": "cvWI1sfTTmup"
      },
      "outputs": [],
      "source": [
        "def pregunta():\n",
        "  global preguntaLista\n",
        "  # [1] Hacer input de pregunta natural\n",
        "  nlp = spacy.load('es_core_news_md')\n",
        "  pregunta = (input('''\n",
        "[4]\n",
        "Si no recuerdas el término, pregúntame, o trata de escribir lo que recuerdes:\n",
        "(Nota: El diccionario cuenta con 70 términos. Trabajamos para que crezca)\n",
        "ESCRIBE TU PREGUNTA ↓\n",
        "→ '''))\n",
        "  preguntaLower = nlp(pregunta.lower())\n",
        "  preguntaLista = []\n",
        "  for token in preguntaLower:\n",
        "      if not token.is_stop:\n",
        "          if not token.is_punct:\n",
        "              preguntaLista.append(token.lemma_)"
      ]
    },
    {
      "cell_type": "markdown",
      "metadata": {
        "id": "NkOvtfsIPF3h"
      },
      "source": [
        "# Coincidencias"
      ]
    },
    {
      "cell_type": "code",
      "execution_count": 36,
      "metadata": {
        "id": "7WdX_EEWUDOw"
      },
      "outputs": [],
      "source": [
        "def coincidencias():\n",
        "  # [1] Buscar coincidencias en lista de términos con lista de pregunta\n",
        "  global statenLista\n",
        "  global preguntaLista\n",
        "  global coincidenciasSet\n",
        "  coincidencias = []\n",
        "  for eS in statenLista:\n",
        "      for eP in preguntaLista:\n",
        "          if set(eS) == set(eP):\n",
        "              coincidencias.append(eS)\n",
        "              coincidenciasSet = set(coincidencias)\n",
        "  print(f'''--------------\n",
        "\n",
        "[5]\n",
        "Hemos encontrado {len(coincidenciasSet)} coincidencias:''')"
      ]
    },
    {
      "cell_type": "markdown",
      "metadata": {
        "id": "ECbw1C5FPF6t"
      },
      "source": [
        "# Resultados"
      ]
    },
    {
      "cell_type": "code",
      "execution_count": 56,
      "metadata": {
        "id": "dj3EwD_TWLLe"
      },
      "outputs": [],
      "source": [
        "def metodotesauro(archivojson):\n",
        "  print('Método semi automático por concidencia de tesauro')\n",
        "  tesauro(archivojson)\n",
        "  pregunta()\n",
        "  coincidencias()\n",
        "  print(f'''\n",
        "Lista de palabras en el tesauro:\\n{statenLista}\n",
        "\n",
        "Lista de palabras en la pregunta:\\n{preguntaLista}\n",
        "\n",
        "Coincidencias:\\n{coincidenciasSet}''')"
      ]
    },
    {
      "cell_type": "markdown",
      "metadata": {
        "id": "glQgjO2ed53m"
      },
      "source": [
        "## Statenvertaling"
      ]
    },
    {
      "cell_type": "code",
      "execution_count": 57,
      "metadata": {
        "colab": {
          "base_uri": "https://localhost:8080/"
        },
        "id": "g82kIlYUXCVr",
        "outputId": "1bfb6721-16e5-4b9f-c6e6-97d2b4bfff81"
      },
      "outputs": [
        {
          "name": "stdout",
          "output_type": "stream",
          "text": [
            "Método semi automático por concidencia de tesauro\n",
            "--------------\n",
            "[1] \n",
            "Archivo JSON ingresado como DICT\n",
            "Con 9 atributos:\n",
            "\n",
            "Nombre\n",
            "Sinónimos\n",
            "Hiperónimos\n",
            "Cohipónimos\n",
            "Hipónimos\n",
            "Polisemia\n",
            "Antonimia\n",
            "Meronimia\n",
            "Definición\n",
            "--------------\n",
            "\n",
            "[2]\n",
            "Archivo DICT se ha limpiado\n",
            "--------------\n",
            "\n",
            "[3]\n",
            "Archivo DICT leído con PLN. 72 campos de búsqueda\n",
            "--------------\n",
            "\n",
            "[4]\n",
            "Si no recuerdas el término, pregúntame, o trata de escribir lo que recuerdes:\n",
            "(Nota: El diccionario cuenta con 70 términos. Trabajamos para que crezca)\n",
            "ESCRIBE TU PREGUNTA ↓\n",
            "→ traducción bíblica de los países bajos\n",
            "--------------\n",
            "\n",
            "[5]\n",
            "Hemos encontrado 3 coincidencias:\n",
            "\n",
            "Lista de palabras en el tesauro:\n",
            "['país', 'bajo', 'cambio', 'apartado', 'abraham', 'natal', 'iglesia', 'justicia', 'visto', 'región', 'calvinismo', 'mensaje', 'autoridad', 'judeocristián', 'puro', 'jacob', 'dordretch', 'general', 'traducción', 'político', 'mensaje', 'fe', 'idioma', 'sínodo', 'gobierno', 'expresión', 'cristiano', 'isaac', 'reforma', 'intención', 'sagrado', 'monoteísmo', 'dordretch', 'calvino', 'país', 'judío', 'sacro', 'neerlandés', 'país', 'idioma', 'país', 'escritura', 'dios', 'lenguaje', 'internacional', 'arminianismo', 'lenguaje', 'palabra', 'religión', 'comunicación', 'neerlandés', 'país', 'biblia', 'frontero', 'santo', 'judaísmo', 'materno', 'arminio', 'bajo', 'cristianismo', 'lengua', 'sínodo', 'bajo', 'receptor', 'espacio', 'sagrado', 'religioso', 'dialecto', 'ciudad', 'letra', 'cristo', 'comunicación']\n",
            "\n",
            "Lista de palabras en la pregunta:\n",
            "['traducción', 'bíblico', 'país', 'bajo']\n",
            "\n",
            "Coincidencias:\n",
            "{'bajo', 'traducción', 'país'}\n"
          ]
        }
      ],
      "source": [
        "# URL con JSON de \"Statenvertaling\"\n",
        "url = 'https://raw.githubusercontent.com/AlefoElfo/thesis_semiautomatic_thesaurus_matching_method/main/assets/Statenvertaling.json'\n",
        "metodotesauro(url)"
      ]
    },
    {
      "cell_type": "markdown",
      "metadata": {
        "id": "skfekJYLbM03"
      },
      "source": [
        "## Biblia del Oso"
      ]
    },
    {
      "cell_type": "code",
      "execution_count": 58,
      "metadata": {
        "colab": {
          "base_uri": "https://localhost:8080/"
        },
        "id": "7YYEMA89d_UE",
        "outputId": "a1f59a7d-18ab-4344-8ebd-f188388f64f7"
      },
      "outputs": [
        {
          "name": "stdout",
          "output_type": "stream",
          "text": [
            "Método semi automático por concidencia de tesauro\n",
            "--------------\n",
            "[1] \n",
            "Archivo JSON ingresado como DICT\n",
            "Con 9 atributos:\n",
            "\n",
            "Nombre\n",
            "Sinónimos\n",
            "Hiperónimos\n",
            "Cohipónimos\n",
            "Hipónimos\n",
            "Polisemia\n",
            "Antonimia\n",
            "Meronimia\n",
            "Definición\n",
            "--------------\n",
            "\n",
            "[2]\n",
            "Archivo DICT se ha limpiado\n",
            "--------------\n",
            "\n",
            "[3]\n",
            "Archivo DICT leído con PLN. 60 campos de búsqueda\n",
            "--------------\n",
            "\n",
            "[4]\n",
            "Si no recuerdas el término, pregúntame, o trata de escribir lo que recuerdes:\n",
            "(Nota: El diccionario cuenta con 70 términos. Trabajamos para que crezca)\n",
            "ESCRIBE TU PREGUNTA ↓\n",
            "→ traducción de la Biblia en español\n",
            "--------------\n",
            "\n",
            "[5]\n",
            "Hemos encontrado 3 coincidencias:\n",
            "\n",
            "Lista de palabras en el tesauro:\n",
            "['intención', 'político', 'dialecto', 'palabra', 'ibérica', 'religioso', 'lenguaje', 'ciudad', 'región', 'sagrado', 'visto', 'receptor', 'español', 'isaac', 'bajo', 'lenguaje', 'cristiano', 'iberia', 'dios', 'expresión', 'reina', 'lengua', 'escritura', 'natal', 'cristianismo', 'idioma', 'casiodoro', 'abraham', 'idioma', 'apartado', 'país', 'fe', 'cambio', 'frontero', 'español', 'mensaje', 'materno', 'sacro', 'traducción', 'país', 'judaísmo', 'judío', 'comunicación', 'santo', 'traductor', 'cristo', 'biblia', 'espacio', 'jacob', 'letra', 'españa', 'puro', 'lugar', 'monoteísmo', 'judeocristián', 'comunicación', 'sagrado', 'mensaje', 'reformado', 'religión']\n",
            "\n",
            "Lista de palabras en la pregunta:\n",
            "['traducción', 'biblia', 'español']\n",
            "\n",
            "Coincidencias:\n",
            "{'español', 'traducción', 'biblia'}\n"
          ]
        }
      ],
      "source": [
        "# Biblia del oso\n",
        "url = 'https://raw.githubusercontent.com/AlefoElfo/thesis_semiautomatic_thesaurus_matching_method/main/assets/BibliaOso.json'\n",
        "metodotesauro(url)"
      ]
    }
  ],
  "metadata": {
    "colab": {
      "provenance": []
    },
    "kernelspec": {
      "display_name": "Python 3.10.1 64-bit",
      "language": "python",
      "name": "python3"
    },
    "language_info": {
      "name": "python",
      "version": "3.10.1"
    },
    "vscode": {
      "interpreter": {
        "hash": "1f9c152d9f0365093b663d0a0083c421e9d0e902b141b1775c7dd79ac936301d"
      }
    }
  },
  "nbformat": 4,
  "nbformat_minor": 0
}
